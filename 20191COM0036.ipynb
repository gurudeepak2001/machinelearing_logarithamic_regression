{
  "nbformat": 4,
  "nbformat_minor": 0,
  "metadata": {
    "colab": {
      "name": "20191COM0036.ipynb",
      "provenance": []
    },
    "kernelspec": {
      "name": "python3",
      "display_name": "Python 3"
    },
    "language_info": {
      "name": "python"
    }
  },
  "cells": [
    {
      "cell_type": "markdown",
      "metadata": {
        "id": "GoH-Opt-LegJ"
      },
      "source": [
        "*Logarithmic  Regression *\n",
        "\n",
        "\n"
      ]
    },
    {
      "cell_type": "code",
      "metadata": {
        "colab": {
          "base_uri": "https://localhost:8080/",
          "height": 332
        },
        "id": "mFlf12FNLzaW",
        "outputId": "41ac3cd9-4d19-4756-a6a0-ee4814808314"
      },
      "source": [
        "#mport required libraries:\n",
        "import numpy as np\n",
        "import matplotlib.pyplot as plt\n",
        "from sklearn.metrics import r2_score\n",
        "# Dataset:\n",
        "# Y = a + b*ln(X)\n",
        "X = np.arange(1,50,0.5)\n",
        "Y = 10 + 2*np.log(X)\n",
        "#Adding some noise to calculate error!\n",
        "Y_noise = np.random.rand(len(Y))\n",
        "Y = Y +Y_noise\n",
        "plt.scatter(X,Y)\n",
        "# 1st column of our X matrix should be 1:\n",
        "n = len(X)\n",
        "x_bias = np.ones((n,1))\n",
        "print (X.shape)\n",
        "print (x_bias.shape)\n",
        "# Reshaping X :\n",
        "X = np.reshape(X,(n,1))\n",
        "print (X.shape)\n",
        "# Going with the formula:\n",
        "# Y = a + b*ln(X)\n",
        "X_log = np.log(X)\n",
        "# Append the X_log to X_bias:\n",
        "x_new = np.append(x_bias,X_log,axis=1)\n",
        "# Transpose of a matrix:\n",
        "x_new_transpose = np.transpose(x_new)\n",
        "# Matrix multiplication:\n",
        "x_new_transpose_dot_x_new = x_new_transpose.dot(x_new)\n",
        "# Find inverse:\n",
        "temp_1 = np.linalg.inv(x_new_transpose_dot_x_new)\n",
        "# Matrix Multiplication:\n",
        "temp_2 = x_new_transpose.dot(Y)\n",
        "# Find the coefficient values:\n",
        "theta = temp_1.dot(temp_2)\n",
        "# Plot the data:\n",
        "a = theta[0]\n",
        "b = theta[1]\n",
        "Y_plot = a + b*np.log(X)\n",
        "plt.scatter(X,Y)\n",
        "plt.plot(X,Y_plot,c=\"r\")\n",
        "# Check the accuracy:\n",
        "Accuracy = r2_score(Y,Y_plot)\n",
        "print (Accuracy)"
      ],
      "execution_count": 2,
      "outputs": [
        {
          "output_type": "stream",
          "name": "stdout",
          "text": [
            "(98,)\n",
            "(98, 1)\n",
            "(98, 1)\n",
            "0.9700852827740462\n"
          ]
        },
        {
          "output_type": "display_data",
          "data": {
            "image/png": "[encoded data removed]",
            "text/plain": [
              "<Figure size 432x288 with 1 Axes>"
            ]
          },
          "metadata": {
            "needs_background": "light"
          }
        }
      ]
    }
  ]
}